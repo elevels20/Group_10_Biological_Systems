{
 "cells": [
  {
   "cell_type": "markdown",
   "id": "7d00fbd2-7e17-4c36-ada7-7c20f5ec0dce",
   "metadata": {},
   "source": [
    "Please follow the rules/instructions for making the assignments. This means, for every exercise:\n",
    "\n",
    "- Make sure the code is **well-documented**\n",
    "- Update the README file, found in the same directory as the assignment, this means:\n",
    "    - Describe the objective of the assignment\n",
    "    - Provide instructions on how to run your code\n",
    "    - Include any other relevant notes or dependencies\n",
    "\n",
    "Also, please be mindful of the rules for the use of Generative AI:\n",
    "- You may use generative AI tools (e.g., ChatGPT, GitHub Copilot, etc.) in your assignments under the following conditions:\n",
    "    - Clearly indicate where and how you used generative AI\n",
    "    - Save and submit the AI conversation alongside your assignment (upload the transcript alongside your assignment)\n",
    "    - Remember: Using AI tools should support your learning, not replace it. Make sure the work you submit reflects your group’s understanding. All group members are still responsible for understanding and being able to explain all submitted content.\n",
    "\n",
    "***The name of the group member responsible for each assignment is written behind the exercise number.***"
   ]
  },
  {
   "cell_type": "code",
   "execution_count": 1,
   "id": "21ab13de-43ff-430c-a1e4-0009e24eae59",
   "metadata": {},
   "outputs": [
    {
     "name": "stdout",
     "output_type": "stream",
     "text": [
      "Python: 3.12.1\n",
      "NumPy: 2.2.6\n",
      "COBRA: 0.29.1\n",
      "CWD: /Users/elevels/Documents/UM/Bachelor/Year 3/Period 1/Multi-Scale Modelling of Biological Systems/Assignments/Group_10_Biological_Systems/Assignment1\n"
     ]
    }
   ],
   "source": [
    "import numpy, cobra, sys, pathlib\n",
    "print(\"Python:\", sys.version.split()[0])\n",
    "print(\"NumPy:\", numpy.__version__)\n",
    "print(\"COBRA:\", cobra.__version__)\n",
    "print(\"CWD:\", pathlib.Path.cwd())"
   ]
  },
  {
   "cell_type": "markdown",
   "id": "34f9278b-55a8-4262-b754-1e119d90eea8",
   "metadata": {},
   "source": [
    "# Exercise 1 - Evi Levels"
   ]
  },
  {
   "cell_type": "markdown",
   "id": "4c2b4659-6d53-4a44-877b-c27757aa4fe9",
   "metadata": {},
   "source": [
    "**a)** When looking at the ESCHER map of the E. coli core model, we do not observe the same pattern as we did for reaction fluxes in a linear pathway. Previously, fluxes in a linear pathway were equal due to mass balance constraints, but for maximal reaction activities, the arrows representing sequential reactions often have different colors or shades, indicating different activity levels. For example, the arrow for PFK has a lighter shade of green than the arrow for FBA, indicating a lower maximal reaction acitivity (in mmol/gDW/h) for PFK compared to FBA. Thus, we can conclude that the maximal reaction activities are not equal to each other in a linear pathway. A reason for this could be that the maximal reaction activities show the estimated maximal activity for each reaction individually, instead of the actual fluxes that are constrained by mass balance. "
   ]
  },
  {
   "cell_type": "markdown",
   "id": "628df4d6-5210-4496-94fc-452d0832dac6",
   "metadata": {},
   "source": [
    "**b)** Two examples of reactions that have no maximal reaction activity data are *EX_h2o_e* and *EX_co2_e*, which are H2O exchange and CO2 exchange reactions, respectively. Gene expression-derived data would not be applicable because exchange reactions are not physical reactions, but they are artificial reactions describing the system boundaries. Since there are no genes or enzymes involved, there is no gene expression-derived data associated with them. "
   ]
  },
  {
   "cell_type": "markdown",
   "id": "6f48cc33-9d4c-4e21-bc27-109872f8b004",
   "metadata": {},
   "source": [
    "# Exercise 2 - Evi Levels"
   ]
  },
  {
   "cell_type": "code",
   "execution_count": 2,
   "id": "842bc8e8-d841-4080-a15e-44b3ad6c37f2",
   "metadata": {},
   "outputs": [],
   "source": [
    "import pandas as pd"
   ]
  },
  {
   "cell_type": "code",
   "execution_count": 3,
   "id": "f1185f85-189c-4a4d-856b-536bc7bd8314",
   "metadata": {},
   "outputs": [],
   "source": [
    "# Loading the model\n",
    "model = cobra.io.load_json_model('e_coli_core.json')"
   ]
  },
  {
   "cell_type": "code",
   "execution_count": 4,
   "id": "955daf44-2a87-4b86-b132-05ec3ae40f8e",
   "metadata": {},
   "outputs": [
    {
     "data": {
      "text/html": [
       "\n",
       "        <table>\n",
       "            <tr>\n",
       "                <td><strong>Name</strong></td>\n",
       "                <td>e_coli_core</td>\n",
       "            </tr><tr>\n",
       "                <td><strong>Memory address</strong></td>\n",
       "                <td>15ec843b0</td>\n",
       "            </tr><tr>\n",
       "                <td><strong>Number of metabolites</strong></td>\n",
       "                <td>72</td>\n",
       "            </tr><tr>\n",
       "                <td><strong>Number of reactions</strong></td>\n",
       "                <td>95</td>\n",
       "            </tr><tr>\n",
       "                <td><strong>Number of genes</strong></td>\n",
       "                <td>137</td>\n",
       "            </tr><tr>\n",
       "                <td><strong>Number of groups</strong></td>\n",
       "                <td>0</td>\n",
       "            </tr><tr>\n",
       "                <td><strong>Objective expression</strong></td>\n",
       "                <td>1.0*BIOMASS_Ecoli_core_w_GAM - 1.0*BIOMASS_Ecoli_core_w_GAM_reverse_712e5</td>\n",
       "            </tr><tr>\n",
       "                <td><strong>Compartments</strong></td>\n",
       "                <td>extracellular space, cytosol</td>\n",
       "            </tr>\n",
       "          </table>"
      ],
      "text/plain": [
       "<Model e_coli_core at 0x15ec843b0>"
      ]
     },
     "execution_count": 4,
     "metadata": {},
     "output_type": "execute_result"
    }
   ],
   "source": [
    "# Taking a look at the model\n",
    "model"
   ]
  },
  {
   "cell_type": "code",
   "execution_count": 5,
   "id": "e425610a-9c59-4425-a740-3d33f043328d",
   "metadata": {},
   "outputs": [
    {
     "data": {
      "text/html": [
       "<div>\n",
       "<style scoped>\n",
       "    .dataframe tbody tr th:only-of-type {\n",
       "        vertical-align: middle;\n",
       "    }\n",
       "\n",
       "    .dataframe tbody tr th {\n",
       "        vertical-align: top;\n",
       "    }\n",
       "\n",
       "    .dataframe thead th {\n",
       "        text-align: right;\n",
       "    }\n",
       "</style>\n",
       "<table border=\"1\" class=\"dataframe\">\n",
       "  <thead>\n",
       "    <tr style=\"text-align: right;\">\n",
       "      <th></th>\n",
       "      <th># Reaction ID</th>\n",
       "      <th>reaction activity [mmol/gDW/h]</th>\n",
       "    </tr>\n",
       "  </thead>\n",
       "  <tbody>\n",
       "    <tr>\n",
       "      <th>0</th>\n",
       "      <td>PFK</td>\n",
       "      <td>12.12</td>\n",
       "    </tr>\n",
       "    <tr>\n",
       "      <th>1</th>\n",
       "      <td>PFL</td>\n",
       "      <td>1.00</td>\n",
       "    </tr>\n",
       "    <tr>\n",
       "      <th>2</th>\n",
       "      <td>PGI</td>\n",
       "      <td>13.12</td>\n",
       "    </tr>\n",
       "    <tr>\n",
       "      <th>3</th>\n",
       "      <td>PGK</td>\n",
       "      <td>23.13</td>\n",
       "    </tr>\n",
       "    <tr>\n",
       "      <th>4</th>\n",
       "      <td>PGL</td>\n",
       "      <td>8.12</td>\n",
       "    </tr>\n",
       "  </tbody>\n",
       "</table>\n",
       "</div>"
      ],
      "text/plain": [
       "  # Reaction ID   reaction activity [mmol/gDW/h] \n",
       "0           PFK                             12.12\n",
       "1           PFL                              1.00\n",
       "2           PGI                             13.12\n",
       "3           PGK                             23.13\n",
       "4           PGL                              8.12"
      ]
     },
     "execution_count": 5,
     "metadata": {},
     "output_type": "execute_result"
    }
   ],
   "source": [
    "# Loading the gene expression data \n",
    "gene_expression_data = pd.read_csv(\"e_coli_core_expression.csv\")\n",
    "gene_expression_data.head()"
   ]
  },
  {
   "cell_type": "code",
   "execution_count": 6,
   "id": "cb8ab1f0-38e8-4da4-b0cb-e2301abff96e",
   "metadata": {},
   "outputs": [
    {
     "data": {
      "text/html": [
       "<div>\n",
       "<style scoped>\n",
       "    .dataframe tbody tr th:only-of-type {\n",
       "        vertical-align: middle;\n",
       "    }\n",
       "\n",
       "    .dataframe tbody tr th {\n",
       "        vertical-align: top;\n",
       "    }\n",
       "\n",
       "    .dataframe thead th {\n",
       "        text-align: right;\n",
       "    }\n",
       "</style>\n",
       "<table border=\"1\" class=\"dataframe\">\n",
       "  <thead>\n",
       "    <tr style=\"text-align: right;\">\n",
       "      <th></th>\n",
       "      <th>reaction_id</th>\n",
       "      <th>max_activity</th>\n",
       "    </tr>\n",
       "  </thead>\n",
       "  <tbody>\n",
       "    <tr>\n",
       "      <th>0</th>\n",
       "      <td>PFK</td>\n",
       "      <td>12.12</td>\n",
       "    </tr>\n",
       "    <tr>\n",
       "      <th>1</th>\n",
       "      <td>PFL</td>\n",
       "      <td>1.00</td>\n",
       "    </tr>\n",
       "    <tr>\n",
       "      <th>2</th>\n",
       "      <td>PGI</td>\n",
       "      <td>13.12</td>\n",
       "    </tr>\n",
       "    <tr>\n",
       "      <th>3</th>\n",
       "      <td>PGK</td>\n",
       "      <td>23.13</td>\n",
       "    </tr>\n",
       "    <tr>\n",
       "      <th>4</th>\n",
       "      <td>PGL</td>\n",
       "      <td>8.12</td>\n",
       "    </tr>\n",
       "  </tbody>\n",
       "</table>\n",
       "</div>"
      ],
      "text/plain": [
       "  reaction_id  max_activity\n",
       "0         PFK         12.12\n",
       "1         PFL          1.00\n",
       "2         PGI         13.12\n",
       "3         PGK         23.13\n",
       "4         PGL          8.12"
      ]
     },
     "execution_count": 6,
     "metadata": {},
     "output_type": "execute_result"
    }
   ],
   "source": [
    "# renaming the columns for easier usage\n",
    "gene_expression_data.columns = ['reaction_id', 'max_activity']\n",
    "gene_expression_data.head()"
   ]
  },
  {
   "cell_type": "markdown",
   "id": "431fad87-1ccb-4cc5-b675-8fb50afdbbd6",
   "metadata": {},
   "source": [
    "For the ATPM energy maintenance reaction, we leave the lower flux as-is, since it describes cellular energy requirements separate from any maximal reaction activities. \n",
    "\n",
    "Then we have to, for reversible reactions, set the lower and upper flux bound to -value and +value, respectively (“value” as the maximal reaction activity). We know a reaction is reversible if the lower bound is < 0 and the upper bound is > 0.\n",
    "\n",
    "Next we have to, for irreversible reactions, only set the maximal flux bound to value and leave the minimal flux bound at zero. A reaction is irreversible if we have lower bound >= 0 AND upper bound > 0. \n",
    "\n",
    "Technically, we could also have another situation for when a reaction is irreversible. This is when we have lower bound < 0 AND upper bound <= 0. However, when looking at the assignment, I suppose we have to ignore this case (at least for now).\n",
    "\n",
    "We leave the default constraints for reactions without data."
   ]
  },
  {
   "cell_type": "code",
   "execution_count": 7,
   "id": "eaf97ce3-1806-4022-a730-79e484d3aa31",
   "metadata": {},
   "outputs": [],
   "source": [
    "for reaction in model.reactions:\n",
    "    # Leave ATPM lower flux bound as-is\n",
    "    if reaction.id == \"ATPM\":\n",
    "        continue\n",
    "\n",
    "    # Get maximal reaction activity\n",
    "    value = gene_expression_data[gene_expression_data['reaction_id'] == reaction.id]['max_activity']\n",
    "\n",
    "    # Check if non-empty, so to see if the reaction is in gene_expression_data\n",
    "    if value.empty:\n",
    "        # Leave default constraints for reactions without data\n",
    "        continue\n",
    "    \n",
    "    value = value.iloc[0]\n",
    "    \n",
    "    # search for reversible reactions\n",
    "    if reaction.lower_bound < 0 and reaction.upper_bound > 0: \n",
    "        # Set lower and upper bound to -value and +value respectively\n",
    "        reaction.lower_bound = -value\n",
    "        reaction.upper_bound = value\n",
    "        \n",
    "    # search for irreversible reactions\n",
    "    elif reaction.lower_bound >= 0 and reaction.upper_bound > 0:\n",
    "        # Leave lower bound at zero\n",
    "        reaction.lower_bound = 0\n",
    "        # Set upper bound to value\n",
    "        reaction.upper_bound = value"
   ]
  },
  {
   "cell_type": "markdown",
   "id": "b5d5bf15-945c-4f80-bf12-72806e434426",
   "metadata": {},
   "source": [
    "Lastly, we take a look at the glucose exchange reaction, *EX_glc__D_e*. We have to remove the maximal absolute flux bound\n",
    "and use the high absolute default bound instead."
   ]
  },
  {
   "cell_type": "code",
   "execution_count": 8,
   "id": "31d09135-1939-41e9-90bd-4b2474cd353a",
   "metadata": {},
   "outputs": [],
   "source": [
    "model.reactions.EX_glc__D_e.lower_bound = -1000\n",
    "model.reactions.EX_glc__D_e.upper_bound = 1000"
   ]
  },
  {
   "cell_type": "markdown",
   "id": "d8892af9-1477-4df3-abee-83a30338cbac",
   "metadata": {},
   "source": [
    "Printing a table listing each reaction’s lower and upper flux bound:"
   ]
  },
  {
   "cell_type": "code",
   "execution_count": 9,
   "id": "d0e77141-544a-4b0a-850d-74b0d9089262",
   "metadata": {
    "scrolled": true
   },
   "outputs": [
    {
     "name": "stdout",
     "output_type": "stream",
     "text": [
      "Reaction ID               | Lower bound  | Upper bound \n",
      "\n",
      "PFK                       | 0            | 12.12       \n",
      "PFL                       | 0            | 1.0         \n",
      "PGI                       | -13.12       | 13.12       \n",
      "PGK                       | -23.13       | 23.13       \n",
      "PGL                       | 0            | 8.12        \n",
      "ACALD                     | -1.16        | 1.16        \n",
      "AKGt2r                    | -3.1         | 3.1         \n",
      "PGM                       | -20.01       | 20.01       \n",
      "PIt2r                     | -6.03        | 6.03        \n",
      "ALCD2x                    | -9.01        | 9.01        \n",
      "ACALDt                    | -2.29        | 2.29        \n",
      "ACKr                      | -1.19        | 1.19        \n",
      "PPC                       | 0            | 2.56        \n",
      "ACONTa                    | -25.35       | 25.35       \n",
      "ACONTb                    | -25.35       | 25.35       \n",
      "ATPM                      | 8.39         | 1000.0      \n",
      "PPCK                      | 0            | 25.23       \n",
      "ACt2r                     | -3.23        | 3.23        \n",
      "PPS                       | 0            | 2.5         \n",
      "ADK1                      | -30.57       | 30.57       \n",
      "AKGDH                     | 0            | 24.35       \n",
      "ATPS4r                    | -60.5        | 60.5        \n",
      "PTAr                      | -4.47        | 4.47        \n",
      "PYK                       | 0            | 26.78       \n",
      "BIOMASS_Ecoli_core_w_GAM  | 0.0          | 1000.0      \n",
      "PYRt2                     | -1.26        | 1.26        \n",
      "CO2t                      | -30.45       | 30.45       \n",
      "RPE                       | -5.67        | 5.67        \n",
      "CS                        | 0            | 20.56       \n",
      "RPI                       | -5.56        | 5.56        \n",
      "SUCCt2_2                  | 0            | 2.36        \n",
      "CYTBD                     | 0            | 40.56       \n",
      "D_LACt2                   | -4.56        | 4.56        \n",
      "ENO                       | -28.78       | 28.78       \n",
      "SUCCt3                    | 0            | 6.67        \n",
      "ETOHt2r                   | -2.34        | 2.34        \n",
      "SUCDi                     | 0            | 24.34       \n",
      "SUCOAS                    | -20.6        | 20.6        \n",
      "TALA                      | -4.45        | 4.45        \n",
      "THD2                      | 0            | 4.5         \n",
      "TKT1                      | -3.34        | 3.34        \n",
      "TKT2                      | -3.34        | 3.34        \n",
      "TPI                       | -45.56       | 45.56       \n",
      "EX_ac_e                   | 0.0          | 1000.0      \n",
      "EX_acald_e                | 0.0          | 1000.0      \n",
      "EX_akg_e                  | 0.0          | 1000.0      \n",
      "EX_co2_e                  | -1000.0      | 1000.0      \n",
      "EX_etoh_e                 | 0.0          | 1000.0      \n",
      "EX_for_e                  | 0.0          | 1000.0      \n",
      "EX_fru_e                  | 0.0          | 1000.0      \n",
      "EX_fum_e                  | 0.0          | 1000.0      \n",
      "EX_glc__D_e               | -1000        | 1000        \n",
      "EX_gln__L_e               | 0.0          | 1000.0      \n",
      "EX_glu__L_e               | 0.0          | 1000.0      \n",
      "EX_h_e                    | -1000.0      | 1000.0      \n",
      "EX_h2o_e                  | -1000.0      | 1000.0      \n",
      "EX_lac__D_e               | 0.0          | 1000.0      \n",
      "EX_mal__L_e               | 0.0          | 1000.0      \n",
      "EX_nh4_e                  | -1000.0      | 1000.0      \n",
      "EX_o2_e                   | -1000.0      | 1000.0      \n",
      "EX_pi_e                   | -1000.0      | 1000.0      \n",
      "EX_pyr_e                  | 0.0          | 1000.0      \n",
      "EX_succ_e                 | 0.0          | 1000.0      \n",
      "FBA                       | -24.45       | 24.45       \n",
      "FBP                       | 0            | 2.35        \n",
      "FORt2                     | 0            | 1.28        \n",
      "FORt                      | -1000.0      | 0.0         \n",
      "FRD7                      | 0            | 20.07       \n",
      "FRUpts2                   | 0            | 10.08       \n",
      "FUM                       | -24.35       | 24.35       \n",
      "FUMt2_2                   | 0            | 2.45        \n",
      "G6PDH2r                   | -5.68        | 5.68        \n",
      "GAPD                      | -26.13       | 26.13       \n",
      "GLCpts                    | 0            | 16.34       \n",
      "GLNS                      | 0            | 3.45        \n",
      "GLNabc                    | 0            | 0.25        \n",
      "GLUDy                     | -7.35        | 7.35        \n",
      "GLUN                      | 0            | 6.25        \n",
      "GLUSy                     | 0            | 7.35        \n",
      "GLUt2r                    | -4.12        | 4.12        \n",
      "GND                       | 0            | 6.72        \n",
      "H2Ot                      | -20.06       | 20.06       \n",
      "ICDHyr                    | -15.06       | 15.06       \n",
      "ICL                       | 0            | 14.07       \n",
      "LDH_D                     | -2.07        | 2.07        \n",
      "MALS                      | 0            | 9.12        \n",
      "MALt2_2                   | 0            | 8.87        \n",
      "MDH                       | -4.26        | 4.26        \n",
      "ME1                       | 0            | 3.24        \n",
      "ME2                       | 0            | 3.34        \n",
      "NADH16                    | 0            | 20.26       \n",
      "NADTRHD                   | 0            | 1.26        \n",
      "NH4t                      | -3.45        | 3.45        \n",
      "O2t                       | -40.67       | 40.67       \n",
      "PDH                       | 0            | 32.32       \n"
     ]
    }
   ],
   "source": [
    "print(f\"{'Reaction ID':<25} | {'Lower bound':<12} | {'Upper bound':<12}\\n\")\n",
    "for reaction in model.reactions:\n",
    "    print(f\"{reaction.id:<25} | {reaction.lower_bound:<12} | {reaction.upper_bound:<12}\")"
   ]
  },
  {
   "cell_type": "markdown",
   "id": "ef002011-4fab-44b6-bf45-93f797df69d2",
   "metadata": {},
   "source": [
    "# Exercise 3 - Evi Levels"
   ]
  },
  {
   "cell_type": "markdown",
   "id": "bbb64e79-8272-4b67-ac63-b2d02b0c15ff",
   "metadata": {},
   "source": [
    "**a)**\n",
    "\n",
    "FVA for all reactions:"
   ]
  },
  {
   "cell_type": "code",
   "execution_count": 10,
   "id": "b8991d28-eaa5-41f0-aa60-f92a55f1eaa3",
   "metadata": {},
   "outputs": [],
   "source": [
    "FVA_results = cobra.flux_analysis.variability.flux_variability_analysis(\n",
    "    model = model, \n",
    "    reaction_list = model.reactions, \n",
    "    loopless = False, \n",
    "    fraction_of_optimum = 0.0\n",
    ")    "
   ]
  },
  {
   "cell_type": "markdown",
   "id": "9491be88-0570-4148-8e81-c861e4b90084",
   "metadata": {},
   "source": [
    "Printing resulting minimal and maximal fluxes per reaction:"
   ]
  },
  {
   "cell_type": "code",
   "execution_count": 11,
   "id": "9a69cfd7-222c-4ba0-9890-a527d9b14929",
   "metadata": {
    "scrolled": true
   },
   "outputs": [
    {
     "name": "stdout",
     "output_type": "stream",
     "text": [
      "Reaction ID               | Minimal flux              | Maximal flux             \n",
      "\n",
      "PFK                       | 0.334677419354839         | 11.15355552574638        \n",
      "PFL                       | 0.0                       | 1.0                      \n",
      "PGI                       | -0.08532258064516078      | 9.020350656890784        \n",
      "PGK                       | -17.596001612302814       | -0.8793548387096762      \n",
      "PGL                       | 0.0                       | 4.522387640638967        \n",
      "ACALD                     | -1.16                     | 0.0                      \n",
      "AKGt2r                    | -3.1                      | 0.0                      \n",
      "PGM                       | -17.038932281976653       | -0.879354838709677       \n",
      "PIt2r                     | 4.781534879440234e-15     | 1.783077286504244        \n",
      "ALCD2x                    | -1.16                     | -7.657268255399939e-17   \n",
      "ACALDt                    | -1.16                     | 0.0                      \n",
      "ACKr                      | -1.19                     | 0.0                      \n",
      "PPC                       | 0.0                       | 2.56                     \n",
      "ACONTa                    | -4.418352345621694e-16    | 5.775555555555558        \n",
      "ACONTb                    | 0.0                       | 5.775555555555558        \n",
      "ATPM                      | 8.39                      | 39.98375                 \n",
      "PPCK                      | 0.0                       | 4.690000000000002        \n",
      "ACt2r                     | -1.19                     | 0.0                      \n",
      "PPS                       | 0.0                       | 2.5                      \n",
      "ADK1                      | 0.0                       | 2.5                      \n",
      "AKGDH                     | 0.0                       | 4.126039421977849        \n",
      "ATPS4r                    | 0.4266666666666663        | 27.640999999999995       \n",
      "PTAr                      | 0.0                       | 1.19                     \n",
      "PYK                       | 0.0                       | 9.232000000000001        \n",
      "BIOMASS_Ecoli_core_w_GAM  | 0.0                       | 0.4847030979705454       \n",
      "PYRt2                     | -1.26                     | 0.0                      \n",
      "CO2t                      | -13.674766918501106       | 1.6153333333333324       \n",
      "RPE                       | -0.34620184843504426      | 2.68857120149328         \n",
      "CS                        | -4.55545086267603e-16     | 5.775555555555558        \n",
      "RPI                       | -1.8338164391456862       | 0.0                      \n",
      "SUCCt2_2                  | 0.0                       | 2.36                     \n",
      "CYTBD                     | 1.000000000000004         | 24.512000000000008       \n",
      "D_LACt2                   | -2.0700000000000003       | 0.0                      \n",
      "ENO                       | 0.8793548387096779        | 17.038932281976663       \n",
      "SUCCt3                    | 0.0                       | 6.67                     \n",
      "ETOHt2r                   | -1.16                     | 0.0                      \n",
      "SUCDi                     | 0.0                       | 24.322                   \n",
      "SUCOAS                    | -4.126039421977849        | 0.0                      \n",
      "TALA                      | -0.08616515120343549      | 1.4262372946170063       \n",
      "THD2                      | 0.0                       | 4.5                      \n",
      "TKT1                      | -0.08616515120343549      | 1.4262372946170054       \n",
      "TKT2                      | -0.26003669723160877      | 1.2623339068762753       \n",
      "TPI                       | 0.33467741935483863       | 8.803555525746383        \n",
      "EX_ac_e                   | 0.0                       | 1.19                     \n",
      "EX_acald_e                | 0.0                       | 1.1599999999999997       \n",
      "EX_akg_e                  | 0.0                       | 3.1000000000000005       \n",
      "EX_co2_e                  | -1.6153333333333353       | 13.67476691850111        \n",
      "EX_etoh_e                 | 0.0                       | 1.16                     \n",
      "EX_for_e                  | 0.0                       | 1.0                      \n",
      "EX_fru_e                  | 0.0                       | 0.0                      \n",
      "EX_fum_e                  | 0.0                       | 0.0                      \n",
      "EX_glc__D_e               | -9.493299814114788        | -0.47942857142857187     \n",
      "EX_gln__L_e               | 0.0                       | 0.0                      \n",
      "EX_glu__L_e               | 0.0                       | 3.450000000000001        \n",
      "EX_h_e                    | 1.2627836455667341e-14    | 21.802165750892733       \n",
      "EX_h2o_e                  | 0.5380000000000037        | 18.590873493554028       \n",
      "EX_lac__D_e               | 0.0                       | 2.0700000000000003       \n",
      "EX_mal__L_e               | 0.0                       | 0.0                      \n",
      "EX_nh4_e                  | -3.45                     | -3.1453661195177216e-15  \n",
      "EX_o2_e                   | -12.256000000000002       | -0.5000000000000011      \n",
      "EX_pi_e                   | -1.7830772865042306       | 9.9264600732086e-16      \n",
      "EX_pyr_e                  | 0.0                       | 1.2599999999999998       \n",
      "EX_succ_e                 | 0.0                       | 6.67                     \n",
      "FBA                       | 0.33467741935483847       | 8.803555525746383        \n",
      "FBP                       | 0.0                       | 2.35                     \n",
      "FORt2                     | 0.0                       | 1.28                     \n",
      "FORt                      | -2.2800000000000002       | 0.0                      \n",
      "FRD7                      | 0.0                       | 20.07                    \n",
      "FRUpts2                   | 0.0                       | 0.0                      \n",
      "FUM                       | -2.5600000000000005       | 4.252000000000001        \n",
      "FUMt2_2                   | 0.0                       | 0.0                      \n",
      "G6PDH2r                   | 1.0323796163679126e-18    | 4.522387640638965        \n",
      "GAPD                      | 0.8793548387096768        | 17.596001612302818       \n",
      "GLCpts                    | 0.4794285714285712        | 9.493299814114787        \n",
      "GLNS                      | 0.0                       | 3.45                     \n",
      "GLNabc                    | 0.0                       | 0.0                      \n",
      "GLUDy                     | -3.4500000000000015       | 3.45                     \n",
      "GLUN                      | 0.0                       | 3.45                     \n",
      "GLUSy                     | 0.0                       | 3.4500000000000006       \n",
      "GLUt2r                    | -3.45                     | 0.0                      \n",
      "GND                       | 0.0                       | 4.522387640638963        \n",
      "H2Ot                      | -18.590873493554025       | -0.538000000000013       \n",
      "ICDHyr                    | 1.1961159943962762e-15    | 5.2021305167394924       \n",
      "ICL                       | 0.0                       | 4.252000000000002        \n",
      "LDH_D                     | -2.07                     | 0.0                      \n",
      "MALS                      | 0.0                       | 4.252000000000002        \n",
      "MALt2_2                   | 0.0                       | 0.0                      \n",
      "MDH                       | -2.559999999999999        | 4.26                     \n",
      "ME1                       | 0.0                       | 3.24                     \n",
      "ME2                       | 0.0                       | 3.34                     \n",
      "NADH16                    | 1.8311111111111114        | 20.26                    \n",
      "NADTRHD                   | 0.0                       | 1.26                     \n",
      "NH4t                      | 0.0                       | 3.45                     \n",
      "O2t                       | 0.49999999999999706       | 12.256                   \n",
      "PDH                       | 0.0                       | 10.931106848625237       \n"
     ]
    }
   ],
   "source": [
    "print(f\"{'Reaction ID':<25} | {'Minimal flux':<25} | {'Maximal flux':<25}\\n\")\n",
    "for reaction_id, row in FVA_results.iterrows():\n",
    "    print(f\"{reaction_id:<25} | {row['minimum']:<25} | {row['maximum']:<25}\")"
   ]
  },
  {
   "cell_type": "markdown",
   "id": "d865b3d1-81b2-46ca-9be3-23a7c9a9395f",
   "metadata": {},
   "source": [
    "**b)** We identify reactions with gene expression-imposed maximal reaction activities, whose permissible flux range in forward direction is nonzero yet comes out less than its upper flux bound."
   ]
  },
  {
   "cell_type": "code",
   "execution_count": 12,
   "id": "02e17b1f-a89e-4775-b5fa-84c436f6eb35",
   "metadata": {
    "scrolled": true
   },
   "outputs": [
    {
     "name": "stdout",
     "output_type": "stream",
     "text": [
      "PFK\n",
      "PGI\n",
      "PGL\n",
      "PIt2r\n",
      "ACONTa\n",
      "ACONTb\n",
      "PPCK\n",
      "PDH\n",
      "ADK1\n",
      "AKGDH\n",
      "ATPS4r\n",
      "PTAr\n",
      "PYK\n",
      "CO2t\n",
      "RPE\n",
      "CS\n",
      "CYTBD\n",
      "ENO\n",
      "SUCDi\n",
      "TALA\n",
      "TKT1\n",
      "TKT2\n",
      "TPI\n",
      "FBA\n",
      "FUM\n",
      "G6PDH2r\n",
      "GAPD\n",
      "GLCpts\n",
      "GLUDy\n",
      "GLUN\n",
      "GLUSy\n",
      "GND\n",
      "ICDHyr\n",
      "ICL\n",
      "MALS\n",
      "O2t\n",
      "36 reactions behave this way.\n"
     ]
    }
   ],
   "source": [
    "count = 0\n",
    "# Loop through reactions with gene expression-imposed maximal reaction activities\n",
    "for reaction_id in gene_expression_data['reaction_id']:\n",
    "    # ignore FORt\n",
    "    if reaction_id == 'FORt':\n",
    "        continue \n",
    "        \n",
    "    # Find permissible flux range in forward direction\n",
    "    permissible_flux_forward = FVA_results.loc[reaction_id, 'maximum']\n",
    "    # Get reaction\n",
    "    reaction = model.reactions.get_by_id(reaction_id)\n",
    "    # Check if permissible_flux_forward is nonzero (so >0, as it is in forward direction) yet comes out less than its upper flux bound\n",
    "    if permissible_flux_forward > 0 and permissible_flux_forward < reaction.upper_bound:\n",
    "        print(reaction_id)\n",
    "        count +=1\n",
    "\n",
    "print(f\"{count} reactions behave this way.\")"
   ]
  },
  {
   "cell_type": "markdown",
   "id": "312c3793-1dc2-426a-abce-c3c642dc856e",
   "metadata": {},
   "source": [
    "***NOTE:** We first wrote an initial answer for this exercise ourselves, then asked ChatGPT the same question and used its response to improve our answer.*\n",
    "\n",
    "Some reactions behave this way because the maximal reaction activities from gene expression are *theoretical* estimates for each reaction individually. In reality, reactions are connected in pathways, and thus the flux through a reaction is constrained by mutliple factors, such as the network-level stoichiometry and mass balance. As a result, even if a reaction could theoretically carry a higher flux, the constraints can limit the actual permissible flux, so it comes out less than the maximal reaction activity."
   ]
  },
  {
   "cell_type": "markdown",
   "id": "6193e619-3cf5-4f34-8fa0-bfc8ec290223",
   "metadata": {},
   "source": [
    "**c)**"
   ]
  },
  {
   "cell_type": "code",
   "execution_count": 13,
   "id": "257ab673-18b4-4516-9a61-6c2195bcc716",
   "metadata": {},
   "outputs": [
    {
     "name": "stdout",
     "output_type": "stream",
     "text": [
      "PFK\n",
      "PIt2r\n",
      "ATPM\n",
      "ATPS4r\n",
      "CYTBD\n",
      "ENO\n",
      "TPI\n",
      "EX_h_e\n",
      "EX_h2o_e\n",
      "FBA\n",
      "G6PDH2r\n",
      "GAPD\n",
      "GLCpts\n",
      "ICDHyr\n",
      "NADH16\n",
      "O2t\n",
      "16 reactions have a positive minimal flux in the FVA.\n"
     ]
    }
   ],
   "source": [
    "count = 0\n",
    "for reaction_id, row in FVA_results.iterrows():\n",
    "    if row['minimum'] > 0:\n",
    "        count += 1\n",
    "        print(reaction_id)\n",
    "        \n",
    "print(f\"{count} reactions have a positive minimal flux in the FVA.\")"
   ]
  },
  {
   "cell_type": "markdown",
   "id": "c58a945b-fc40-4426-b420-e50c31455b1b",
   "metadata": {},
   "source": [
    "***NOTE:** We first wrote an initial answer for this exercise ourselves, then asked ChatGPT the same question and used its response to improve our answer.*\n",
    "\n",
    "Some reactions have a positive minimal flux in the FVA, meaning they are always active in the forward direction, as their flux can never become zero or go in the other direction. This could indicate that some reactions are stoichiometrically and functionally essential for maintaining the optimal objective flux under the given conditions. They may be responsible for producing metabolites with high demand or metabolites that cannot be produced through alternative pathways. As a result, the network cannot set them to zero without reducing the objective, which explains why their minimal flux remains strictly positive."
   ]
  },
  {
   "cell_type": "markdown",
   "id": "4029afb1-a4a3-4cba-9cc5-1604772d2174",
   "metadata": {},
   "source": [
    "# Exercise 4 – Elias Loisel\n",
    "\n",
    "**a)** Carry out an FBA optimization of biomass and report the maximal biomass production rate.\n",
    "\n",
    "**b)** Determine the “bottleneck(s)” – i.e. those reaction(s) whose flux reaches their maximum.\n",
    "\n",
    "**c)** Pick a reaction with maximal reaction activity constraints and zero flux in the optimal solution, and explain from the network context why it carries no flux.\n"
   ]
  },
  {
   "cell_type": "code",
   "execution_count": 14,
   "id": "19212ce8-459a-4740-84bd-4b7f2ab763d5",
   "metadata": {},
   "outputs": [
    {
     "name": "stdout",
     "output_type": "stream",
     "text": [
      "Maximal biomass production rate: 0.484703 (1/h)\n"
     ]
    }
   ],
   "source": [
    "try:\n",
    "    model.objective = model.reactions.get_by_id(\"Biomass_Ecoli_core_w_GAM\")\n",
    "except KeyError:\n",
    "    pass\n",
    "\n",
    "solution = model.optimize()\n",
    "print(f\"Maximal biomass production rate: {solution.objective_value:.6f} (1/h)\")\n"
   ]
  },
  {
   "cell_type": "markdown",
   "id": "40b3b4a3-f5f4-44f1-8062-49a99dfee543",
   "metadata": {},
   "source": [
    "**Answer 4a**  \n",
    "The maximal biomass production rate with the implemented constraints is **0.484703(1/h)**.\n"
   ]
  },
  {
   "cell_type": "code",
   "execution_count": 15,
   "id": "95d85fbd-49ba-4695-b410-952b9ac59fb9",
   "metadata": {},
   "outputs": [
    {
     "name": "stdout",
     "output_type": "stream",
     "text": [
      "Number of bottleneck reactions (tight bounds): 7\n",
      "Reaction ID          | dir   |       flux |      lower |      upper | expr_constrained\n",
      "------------------------------------------------------------------------------------------\n",
      "PFL                  | upper |   1.000000 |      0.000 |      1.000 | True\n",
      "ACALD                | lower |  -1.160000 |     -1.160 |      1.160 | True\n",
      "ACKr                 | lower |  -1.190000 |     -1.190 |      1.190 | True\n",
      "PYRt2                | lower |  -1.260000 |     -1.260 |      1.260 | True\n",
      "THD2                 | upper |   4.500000 |      0.000 |      4.500 | True\n",
      "LDH_D                | lower |  -2.070000 |     -2.070 |      2.070 | True\n",
      "NADH16               | upper |  20.260000 |      0.000 |     20.260 | True\n"
     ]
    }
   ],
   "source": [
    "TOL = 1e-6\n",
    "expr_ids = set(gene_expression_data[\"reaction_id\"].tolist())\n",
    "\n",
    "def tight_direction(rxn, flux, tol=TOL):\n",
    "    if flux >= 0 and abs(flux - rxn.upper_bound) <= tol:\n",
    "        return \"upper\"\n",
    "    if flux < 0 and abs(flux - rxn.lower_bound) <= tol:\n",
    "        return \"lower\"\n",
    "    return None\n",
    "\n",
    "bottlenecks = []\n",
    "for rxn in model.reactions:\n",
    "    f = float(solution.fluxes[rxn.id])\n",
    "    d = tight_direction(rxn, f)\n",
    "    if d is not None:\n",
    "        bottlenecks.append({\n",
    "            \"id\": rxn.id,\n",
    "            \"name\": rxn.name,\n",
    "            \"flux\": f,\n",
    "            \"lower\": rxn.lower_bound,\n",
    "            \"upper\": rxn.upper_bound,\n",
    "            \"direction\": d,\n",
    "            \"expr_constrained\": (rxn.id in expr_ids),\n",
    "        })\n",
    "\n",
    "print(f\"Number of bottleneck reactions (tight bounds): {len(bottlenecks)}\")\n",
    "print(f\"{'Reaction ID':<20} | {'dir':<5} | {'flux':>10} | {'lower':>10} | {'upper':>10} | expr_constrained\")\n",
    "print(\"-\"*90)\n",
    "for b in bottlenecks:\n",
    "    print(f\"{b['id']:<20} | {b['direction']:<5} | {b['flux']:>10.6f} | {b['lower']:>10.3f} | {b['upper']:>10.3f} | {b['expr_constrained']}\")\n",
    "\n"
   ]
  },
  {
   "cell_type": "markdown",
   "id": "943810a5-bb90-403c-87b6-8e08be0e6a9c",
   "metadata": {},
   "source": [
    "**Answer 4b**  \n",
    "Bottlenecks are the reactions listed above whose flux equals a bound in the used direction.  \n",
    "Those marked `expr_constrained=True` are bottlenecks specifically due to the imposed maximal reaction activities from Exercise 2.\n"
   ]
  },
  {
   "cell_type": "code",
   "execution_count": 16,
   "id": "c163148b-ab2c-433d-b791-ade93f13f525",
   "metadata": {},
   "outputs": [
    {
     "name": "stdout",
     "output_type": "stream",
     "text": [
      "Constrained reactions with zero flux in the optimal solution:\n",
      "(Count: 22)\n",
      "\n",
      "Reaction ID          | Reaction name\n",
      "------------------------------------------------------------\n",
      "FORt2                | Formate transport in via proton symport\n",
      "ME1                  | Malic enzyme (NAD)\n",
      "ME2                  | Malic enzyme (NADP)\n",
      "FRD7                 | Fumarate reductase\n",
      "GLUN                 | Glutaminase\n",
      "GLUt2r               | L glutamate transport via proton symport  reversible\n",
      "ICL                  | Isocitrate lyase\n",
      "FUMt2_2              | Fumarate transport via proton symport (2 H)\n",
      "FBP                  | Fructose-bisphosphatase\n",
      "ADK1                 | Adenylate kinase\n",
      "MALS                 | Malate synthase\n",
      "GLUSy                | Glutamate synthase (NADPH)\n",
      "MALt2_2              | Malate transport via proton symport (2 H)\n",
      "PPCK                 | Phosphoenolpyruvate carboxykinase\n",
      "NADTRHD              | NAD transhydrogenase\n",
      "ACALDt               | Acetaldehyde reversible transport\n",
      "AKGt2r               | 2 oxoglutarate reversible transport via symport\n",
      "GLNabc               | L-glutamine transport via ABC system\n",
      "PPS                  | Phosphoenolpyruvate synthase\n",
      "SUCCt2_2             | Succinate transport via proton symport (2 H)\n",
      "FRUpts2              | Fructose transport via PEP:Pyr PTS (f6p generating)\n",
      "SUCCt3               | Succinate transport out via proton antiport\n",
      "\n",
      "Selected reaction for explanation: FORt2 - Formate transport in via proton symport\n",
      "Reaction equation:\n",
      "for_e + h_e --> for_c + h_c\n"
     ]
    }
   ],
   "source": [
    "zero_flux_constrained = []\n",
    "for rid in expr_ids:\n",
    "    if rid in model.reactions:\n",
    "        f = float(solution.fluxes[rid])\n",
    "        if abs(f) <= TOL:\n",
    "            zero_flux_constrained.append(rid)\n",
    "\n",
    "print(\"Constrained reactions with zero flux in the optimal solution:\")\n",
    "print(f\"(Count: {len(zero_flux_constrained)})\\n\")\n",
    "print(f\"{'Reaction ID':<20} | Reaction name\")\n",
    "print(\"-\"*60)\n",
    "for rid in zero_flux_constrained:\n",
    "    rxn = model.reactions.get_by_id(rid)\n",
    "    print(f\"{rid:<20} | {rxn.name}\")\n",
    "\n",
    "if zero_flux_constrained:\n",
    "    chosen = zero_flux_constrained[0]  \n",
    "    rxn = model.reactions.get_by_id(chosen)\n",
    "    print(\"\\nSelected reaction for explanation:\", chosen, \"-\", rxn.name)\n",
    "    print(\"Reaction equation:\")\n",
    "    print(rxn.reaction)\n",
    "else:\n",
    "    print(\"\\n(No constrained zero-flux reactions found under current solution.)\")\n"
   ]
  },
  {
   "cell_type": "markdown",
   "id": "d9fbae74-9fce-46c0-883b-4f6fe12a6770",
   "metadata": {},
   "source": [
    "**Answer 4c**  \n",
    "I select reaction **ICL**. Although it is constrained by a maximal reaction activity, its optimal flux is zero.  \n",
    "**Network explanation (from the ESCHER core map):** the pathway containing **ICL** is not required for optimal biomass under the current bounds. Either (i) an upstream substrate is limiting, (ii) an alternative pathway supplies the product more efficiently, or (iii) the reaction’s forward direction does not align with the optimal metabolite flow. Therefore it remains unused at the optimum.\n"
   ]
  }
 ],
 "metadata": {
  "kernelspec": {
   "display_name": "Python 3 (ipykernel)",
   "language": "python",
   "name": "python3"
  },
  "language_info": {
   "codemirror_mode": {
    "name": "ipython",
    "version": 3
   },
   "file_extension": ".py",
   "mimetype": "text/x-python",
   "name": "python",
   "nbconvert_exporter": "python",
   "pygments_lexer": "ipython3",
   "version": "3.12.1"
  }
 },
 "nbformat": 4,
 "nbformat_minor": 5
}
