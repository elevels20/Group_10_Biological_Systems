{
 "cells": [
  {
   "cell_type": "markdown",
   "id": "7d00fbd2-7e17-4c36-ada7-7c20f5ec0dce",
   "metadata": {},
   "source": [
    "Please follow the rules/instructions for making the assignemnts. This means, for every exercise:\n",
    "\n",
    "- Make sure the code is **well-documented**\n",
    "- Update the README file, found in the same directory as the assignment, this means:\n",
    "    - Describe the objective of the assignment\n",
    "    - Provide instructions on how to run your code\n",
    "    - Include any other relevant notes or dependencies\n",
    "\n",
    "Also, please be mindful of the rules for the use of Generative AI:\n",
    "- You may use generative AI tools (e.g., ChatGPT, GitHub Copilot, etc.) in your assignments under the following conditions:\n",
    "    - Clearly indicate where and how you used generative AI\n",
    "    - Save and submit the AI conversation alongside your assignment (upload the transcript alongside your assignment)\n",
    "    - Remember: Using AI tools should support your learning, not replace it. Make sure the work you submit reflects your group’s understanding. All group members are still responsible for understanding and being able to explain all submitted content."
   ]
  },
  {
   "cell_type": "code",
   "execution_count": null,
   "id": "452af26c-7302-4e12-827c-8b52b72ef7a5",
   "metadata": {},
   "outputs": [],
   "source": []
  }
 ],
 "metadata": {
  "kernelspec": {
   "display_name": "Python 3 (ipykernel)",
   "language": "python",
   "name": "python3"
  },
  "language_info": {
   "codemirror_mode": {
    "name": "ipython",
    "version": 3
   },
   "file_extension": ".py",
   "mimetype": "text/x-python",
   "name": "python",
   "nbconvert_exporter": "python",
   "pygments_lexer": "ipython3",
   "version": "3.12.1"
  }
 },
 "nbformat": 4,
 "nbformat_minor": 5
}
