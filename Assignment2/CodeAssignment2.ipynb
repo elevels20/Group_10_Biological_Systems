{
 "cells": [
  {
   "cell_type": "markdown",
   "id": "f901ae77-b563-4ee3-867e-afe5a644325d",
   "metadata": {},
   "source": [
    "Please follow the rules/instructions for making the assignments. This means, for every exercise:\n",
    "\n",
    "- Make sure the code is **well-documented**\n",
    "- Update the README file, found in the same directory as the assignment, this means:\n",
    "    - Describe the objective of the assignment\n",
    "    - Provide instructions on how to run your code\n",
    "    - Include any other relevant notes or dependencies\n",
    "\n",
    "Also, please be mindful of the rules for the use of Generative AI:\n",
    "- You may use generative AI tools (e.g., ChatGPT, GitHub Copilot, etc.) in your assignments under the following conditions:\n",
    "    - Clearly indicate where and how you used generative AI\n",
    "    - Save and submit the AI conversation alongside your assignment (upload the transcript alongside your assignment)\n",
    "    - Remember: Using AI tools should support your learning, not replace it. Make sure the work you submit reflects your group’s understanding. All group members are still responsible for understanding and being able to explain all submitted content.\n",
    "\n",
    "***The name of the group member responsible for each assignment is written behind the exercise number.***"
   ]
  },
  {
   "cell_type": "code",
   "execution_count": 1,
   "id": "105d4f82-076e-4d93-b041-6b4f04a806ac",
   "metadata": {},
   "outputs": [],
   "source": [
    "import numpy as np\n",
    "import matplotlib.pyplot as plt\n",
    "import pandas as pd\n",
    "from scipy.integrate import odeint\n",
    "import seaborn as sns"
   ]
  },
  {
   "cell_type": "markdown",
   "id": "03adbff9-f719-4135-a492-b7b9eb06fea7",
   "metadata": {},
   "source": [
    "# Assignment task: Recovery rate investigation\n",
    "\n",
    "Using the **SIRD** model from the practical as a starting point, we will investigate how the recovery rate affects epidemic outcomes. <br>\n",
    "This model can be found in the next coding cell:"
   ]
  },
  {
   "cell_type": "code",
   "execution_count": 2,
   "id": "2dcb049a-aa95-4b0f-9821-db2d8c483c4a",
   "metadata": {},
   "outputs": [
    {
     "name": "stdout",
     "output_type": "stream",
     "text": [
      "SIRD test result: (-2.97, 1.87, 1.0, 0.1)\n",
      "You should see 4 numbers!\n"
     ]
    }
   ],
   "source": [
    "def sird_model(y, t, beta, gamma, mu):\n",
    "    \"\"\"\n",
    "    SIRD model with death compartment\n",
    "\n",
    "    TODO: Adapt the SIR model to include deaths\n",
    "\n",
    "    Additional parameter:\n",
    "    - mu: mortality rate\n",
    "\n",
    "    New compartment:\n",
    "    - D: Deaths\n",
    "    \"\"\"\n",
    "    S, I, R, D = y  # Note: now 4 compartments\n",
    "    N = S + I + R + D\n",
    "    \n",
    "    dSdt = - beta * S * I / N\n",
    "    dIdt = beta * S * I / N - gamma * I- mu * I\n",
    "    dRdt = gamma * I\n",
    "    dDdt = mu * I\n",
    "\n",
    "    return dSdt, dIdt, dRdt, dDdt\n",
    "\n",
    "# Test your SIRD function\n",
    "test_result = sird_model([990, 10, 0, 0], 0, 0.3, 0.1, 0.01)\n",
    "print(f\"SIRD test result: {test_result}\")\n",
    "print(\"You should see 4 numbers!\")"
   ]
  },
  {
   "cell_type": "markdown",
   "id": "34bf601f-2194-4a1c-a8c4-22a35581b52f",
   "metadata": {},
   "source": [
    "## Part 1: Parameter analysis function (50 points) - Evi Levels\n",
    "\n",
    "**Task:** Create a function called `analyze_recovery_rates()` that systematically explores different recovery rates."
   ]
  },
  {
   "cell_type": "code",
   "execution_count": 3,
   "id": "2a28ac2b-1976-4bf6-9cb1-a0955547423d",
   "metadata": {},
   "outputs": [],
   "source": [
    "def analyze_recovery_rates(beta, mu, N, I0, simulation_days):\n",
    "    \"\"\"\n",
    "    Analyze epidemic outcomes for different recovery rates.\n",
    "\n",
    "    Parameters:\n",
    "    -----------\n",
    "    beta : float\n",
    "        Transmission rate\n",
    "    mu : float  \n",
    "        Mortality rate\n",
    "    N : int\n",
    "        Total population\n",
    "    I0 : int\n",
    "        Initial infected individuals\n",
    "    simulation_days : int\n",
    "        Simulation duration in days\n",
    "\n",
    "    Returns:\n",
    "    --------\n",
    "    pandas.DataFrame\n",
    "        Results summary for each recovery rate\n",
    "    \"\"\"\n",
    "    # Your implementation here\n",
    "    \n",
    "    # Time points\n",
    "    t = np.linspace(0, simulation_days, simulation_days)\n",
    "\n",
    "    # Test recovery rates\n",
    "    gamma_values = [0.05, 0.1, 0.15, 0.2, 0.25]\n",
    "\n",
    "    plt.figure(figsize=(10, 6))\n",
    "    results = []\n",
    "\n",
    "    for gamma in gamma_values:\n",
    "        # Initial conditions\n",
    "        S0 = N - I0\n",
    "        R0 = 0\n",
    "        D0 = 0 \n",
    "        y0 = [S0, I0, R0, D0]   \n",
    "\n",
    "        #Solve SIRD equations\n",
    "        sol = odeint(sird_model, y0, t, args=(beta, gamma, mu))\n",
    "        S, I, R, D = sol.T\n",
    "\n",
    "        # Calculate results summary\n",
    "        peak_infected = np.max(I) # Peak number of infectious individuals\n",
    "        peak_day = np.argmax(I) # Day when peak occurs\n",
    "        total_deaths = D[-1] # Total deaths at end of simulation\n",
    "        R0 = beta / gamma # Basic reproduction number (R₀ = β/γ)\n",
    "\n",
    "        results.append({\n",
    "            'gamma': gamma,\n",
    "            'R0': R0,\n",
    "            'peak_infected': peak_infected,\n",
    "            'peak_day': peak_day,\n",
    "            'total_deaths': total_deaths\n",
    "        })\n",
    "\n",
    "        # Generate a publication-quality plot showing all epidemic curves\n",
    "        # To keep the plot as clear as possible, we only plot the infections\n",
    "        plt.plot(t, I, label=f'Infectious (gamma={gamma})', linewidth=2)\n",
    "\n",
    "    plt.xlabel('Time (days)')\n",
    "    plt.ylabel('Infectious Population')\n",
    "    plt.title('Effect of Recovery Rate on Epidemic Curve (SIRD Model)')\n",
    "    plt.legend()\n",
    "    plt.grid(True, alpha=0.3)\n",
    "    plt.show()\n",
    "\n",
    "    # Generate DataFrame\n",
    "    epidemic_df = pd.DataFrame(results)\n",
    "    # Return DataFrame\n",
    "    return epidemic_df"
   ]
  },
  {
   "cell_type": "markdown",
   "id": "be916e03-10ff-4ddd-9765-b32ba11ccbd3",
   "metadata": {},
   "source": [
    "## Part 2: Scenario comparison (30 points)"
   ]
  },
  {
   "cell_type": "markdown",
   "id": "965692e1-d9a0-4f1f-9d45-92c1bed4a5b6",
   "metadata": {},
   "source": [
    "## Part 3: Policy recommendations (20 points)"
   ]
  },
  {
   "cell_type": "code",
   "execution_count": null,
   "id": "c97c746c-1924-48ea-be69-1084fbe527c8",
   "metadata": {},
   "outputs": [],
   "source": []
  }
 ],
 "metadata": {
  "kernelspec": {
   "display_name": "Python 3 (ipykernel)",
   "language": "python",
   "name": "python3"
  },
  "language_info": {
   "codemirror_mode": {
    "name": "ipython",
    "version": 3
   },
   "file_extension": ".py",
   "mimetype": "text/x-python",
   "name": "python",
   "nbconvert_exporter": "python",
   "pygments_lexer": "ipython3",
   "version": "3.12.1"
  }
 },
 "nbformat": 4,
 "nbformat_minor": 5
}
